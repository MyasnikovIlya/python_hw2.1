{
 "cells": [
  {
   "cell_type": "code",
   "execution_count": 163,
   "metadata": {},
   "outputs": [],
   "source": [
    "# стандартное название для импорта numpy - np\n",
    "import numpy as np\n",
    "import pandas as pd\n",
    "import math\n"
   ]
  },
  {
   "cell_type": "code",
   "execution_count": 216,
   "metadata": {},
   "outputs": [
    {
     "name": "stdout",
     "output_type": "stream",
     "text": [
      "    Movie 1  Movie 2  Movie 3  Movie 4  Movie 5  Movie 6  Movie 7  Movie 8  \\\n",
      "0        -1        4        1        5       -1       -1       -1        1   \n",
      "1         4        5        2        3        3        4       -1        5   \n",
      "2         4        2        5        4        1        5       -1        3   \n",
      "3         5       -1        2       -1       -1        2        4        3   \n",
      "4         4        3        3        3        5        3        3        4   \n",
      "5         2       -1        3        3        3        3        4        2   \n",
      "6         4        1        4        4        1        4        5        2   \n",
      "7        -1        5        5        3        3        3        3        3   \n",
      "8         1        2        3        1        5        3        3        1   \n",
      "9         5       -1        1       -1        3        3        4        1   \n",
      "10       -1        5       -1        1        5        2        4        2   \n",
      "11        5        4        4       -1        3       -1        5        5   \n",
      "12        1        1        4        5        4        3        5        5   \n",
      "13        3        5        4       -1        1        2        4       -1   \n",
      "14        3        5        3        4        4       -1        4        4   \n",
      "15        3        3        5        3        2        2        5       -1   \n",
      "16        1        1       -1       -1        4        4       -1       -1   \n",
      "17        4        3        3        2        1        5        3        4   \n",
      "18        4        3        5        5        4        4       -1       -1   \n",
      "19        2       -1        2        5       -1       -1        1       -1   \n",
      "20       -1        2        1        2        3        5        4        1   \n",
      "21        2        4        4       -1        4       -1        4        5   \n",
      "22        5        1       -1        5        5       -1       -1        5   \n",
      "23        5        4        2       -1        2        1        3        2   \n",
      "24        3        1       -1        4        2       -1        4        1   \n",
      "25        1        5       -1        3       -1        2        4       -1   \n",
      "26        4        4        3       -1        4        5        3        4   \n",
      "27       -1       -1        4        2        3        2        1        4   \n",
      "28        3        2        4        2        2        2        4        1   \n",
      "29        2        3        5        4        1        3        3        2   \n",
      "30        3        5        4        5        1        3        3        3   \n",
      "31        5        4        5        4        1        5        5        4   \n",
      "32        5        3        4        4        2        1        3        1   \n",
      "33       -1        5       -1       -1        1       -1        5        1   \n",
      "34        4       -1        5        4        2        2        3        1   \n",
      "35        3        2       -1        5        5        1        5        2   \n",
      "36       -1        4       -1        3        1        4        5        4   \n",
      "37        3       -1        1        4        2        3        4       -1   \n",
      "38        1       -1        5       -1        1        2        3       -1   \n",
      "39       -1        1        1        1        1       -1        4        1   \n",
      "\n",
      "    Movie 9  Movie 10  ...  Movie 21  Movie 22  Movie 23  Movie 24  Movie 25  \\\n",
      "0         3        -1  ...         2         4        -1        -1         3   \n",
      "1         3         2  ...        -1         2        -1         3         1   \n",
      "2         5         2  ...         4        -1         5         4         5   \n",
      "3         2         3  ...        -1         2         2         2         2   \n",
      "4         5         2  ...         4         5         2        -1         3   \n",
      "5        -1         1  ...         5        -1         1         3        -1   \n",
      "6         2        -1  ...         2         5         1         3         4   \n",
      "7         1         2  ...        -1         3         1         3         2   \n",
      "8         2         5  ...         3         2         3        -1         1   \n",
      "9         1         2  ...         4         1         4         1         4   \n",
      "10        4        -1  ...         4        -1         3         4         1   \n",
      "11        5         3  ...         1         4         1         5         3   \n",
      "12        5         4  ...         2         3         2        -1         4   \n",
      "13       -1         4  ...         4         1         5         4         1   \n",
      "14        2         1  ...         2         2         5         1         3   \n",
      "15        4         4  ...         1         3         4        -1         4   \n",
      "16        1         1  ...         4         2         4         2         2   \n",
      "17        5         2  ...        -1         4         5         2         1   \n",
      "18        4         4  ...         2         3         1         2        -1   \n",
      "19        2        -1  ...        -1         2         4         1        -1   \n",
      "20        2         3  ...        -1         5         1         2         5   \n",
      "21        5         4  ...         4         5         1        -1        -1   \n",
      "22       -1         3  ...        -1        -1         3         1         5   \n",
      "23        1         2  ...         4         2         2         1         3   \n",
      "24        5         3  ...         2        -1         5         5         2   \n",
      "25        4         2  ...         5         3         1         5         2   \n",
      "26        3        -1  ...        -1         3         4         3        -1   \n",
      "27       -1         1  ...         1         3         2         1         4   \n",
      "28        3         3  ...         3        -1         3         5         5   \n",
      "29        3         1  ...         4         5         1         1         4   \n",
      "30        4         1  ...         5         4         4         3         5   \n",
      "31        4        -1  ...         5         2        -1         2         3   \n",
      "32        3         3  ...         2         1         5         5         2   \n",
      "33        1         5  ...         3         3         4        -1         3   \n",
      "34        1         5  ...         5         1         2         1         5   \n",
      "35        1         5  ...        -1         2         4         3         4   \n",
      "36        3         3  ...         3         3        -1         5        -1   \n",
      "37        5         3  ...         5         4         3        -1         1   \n",
      "38        2         5  ...         4         2         5         2         3   \n",
      "39       -1         3  ...         3         5         4         2         3   \n",
      "\n",
      "    Movie 26  Movie 27  Movie 28  Movie 29  Movie 30  \n",
      "0          4        -1         2         4         1  \n",
      "1          5        -1         5         2         2  \n",
      "2          1         2         1        -1         3  \n",
      "3          5         3         2         5         5  \n",
      "4          5         1        -1         5        -1  \n",
      "5          4         4         5         1         2  \n",
      "6         -1         4         3         1         4  \n",
      "7          1         4        -1         1         3  \n",
      "8          4         3         1         5         3  \n",
      "9          5         2         3        -1         1  \n",
      "10         2         4         2         5         1  \n",
      "11         5         4         3         5         5  \n",
      "12         3        -1         5         5         4  \n",
      "13        -1         3         1         5         3  \n",
      "14         4        -1        -1         5         4  \n",
      "15         4         4         2         4         4  \n",
      "16        -1         5         4         5         3  \n",
      "17         1         2         1        -1         4  \n",
      "18         2         5         1         2         1  \n",
      "19         2         2         3         3         4  \n",
      "20         5         4         4         2        -1  \n",
      "21         5         2         2         5        -1  \n",
      "22        -1         1         5         3         5  \n",
      "23         2         5         2         5         4  \n",
      "24        -1         1         3         1         2  \n",
      "25        -1         2         2         4        -1  \n",
      "26         3         2         3         2         5  \n",
      "27         3         2         4         2         1  \n",
      "28         5         4        -1         5        -1  \n",
      "29         5         3         1         3         5  \n",
      "30         2         2         4         4        -1  \n",
      "31         2         1         3         1        -1  \n",
      "32        -1         2         1         4         2  \n",
      "33         1         5         2         2         5  \n",
      "34         5         1        -1         5         5  \n",
      "35         5         2         1         3         4  \n",
      "36         5         2         3         5        -1  \n",
      "37         4         3        -1        -1         4  \n",
      "38         1         2         1         2         1  \n",
      "39         4         5         5         3         2  \n",
      "\n",
      "[40 rows x 30 columns]\n"
     ]
    },
    {
     "name": "stderr",
     "output_type": "stream",
     "text": [
      "<ipython-input-216-03cdf1b0338f>:1: ParserWarning: Falling back to the 'python' engine because the 'c' engine does not support regex separators (separators > 1 char and different from '\\s+' are interpreted as regex); you can avoid this warning by specifying engine='python'.\n",
      "  data = pd.read_csv('data.csv', delimiter=', ')\n"
     ]
    }
   ],
   "source": [
    "data = pd.read_csv('data.csv', delimiter=', ')\n",
    "kNN = 4\n",
    "myUserIndex = 22\n",
    "# дропаем юзеров, они не нужны, индексы справятся и так\n",
    "data = data.drop(columns=[data.columns[0]])\n",
    "\n",
    "print(data)"
   ]
  },
  {
   "cell_type": "code",
   "execution_count": 210,
   "metadata": {},
   "outputs": [
    {
     "name": "stdout",
     "output_type": "stream",
     "text": [
      "{0: 0, 1: 0, 2: 0, 3: 0, 4: 0, 5: 0, 6: 0, 7: 0, 8: 0, 9: 0, 10: 0, 11: 0, 12: 0, 13: 0, 14: 0, 15: 0, 16: 0, 17: 0, 18: 0, 19: 0, 20: 0, 21: 0, 23: 0, 24: 0, 25: 0, 26: 0, 27: 0, 28: 0, 29: 0, 30: 0, 31: 0, 32: 0, 33: 0, 34: 0, 35: 0, 36: 0, 37: 0, 38: 0, 39: 0}\n"
     ]
    }
   ],
   "source": [
    "# тут будем собирать sim\n",
    "sim = dict(zip(list(data.index.values) , [0 for i in range(len(data))]))\n",
    "del sim[myUserIndex]\n",
    "print(sim)"
   ]
  },
  {
   "cell_type": "code",
   "execution_count": 211,
   "metadata": {},
   "outputs": [],
   "source": [
    "for user in sim.keys():\n",
    "    set = data.iloc[[user, myUserIndex]]\n",
    "    set = set.transpose()\n",
    "    set = set[(set[user] != -1) & (set[myUserIndex] != -1 )]\n",
    "    sumuv = 0\n",
    "    sumuu = 0\n",
    "    sumvv = 0\n",
    "    for index, row in set.iterrows():\n",
    "        sumuv +=row[user] * row[myUserIndex]\n",
    "        sumuu +=row[user] * row[user]\n",
    "        sumvv +=row[myUserIndex] * row[myUserIndex]\n",
    "    sim[user] = round(sumuv / (math.sqrt(sumuu) * math.sqrt(sumvv)), 3)\n",
    "    \n",
    "closestSim = dict(sorted(list(sim.items()), key=lambda x: x[1], reverse=True)[:kNN])"
   ]
  },
  {
   "cell_type": "code",
   "execution_count": 212,
   "metadata": {},
   "outputs": [
    {
     "name": "stdout",
     "output_type": "stream",
     "text": [
      "{26: 3.3333333333333335, 3: 3.142857142857143, 19: 3.1818181818181817, 4: 3.3076923076923075, 22: 3.391304347826087}\n",
      "{26: 0.916, 3: 0.903, 19: 0.888, 4: 0.885}\n"
     ]
    }
   ],
   "source": [
    "def tupleToMean(x):\n",
    "    l = np.array(list(filter(lambda x: x != -1, x)))\n",
    "    user = l[0]\n",
    "    l = np.delete(l, [0])\n",
    "    return [user, l.mean()]\n",
    "\n",
    "means = dict(list(map(tupleToMean, data.iloc[[*list(closestSim.keys()), myUserIndex]].to_records())))\n",
    "print(means)\n",
    "print(closestSim)\n"
   ]
  },
  {
   "cell_type": "code",
   "execution_count": 214,
   "metadata": {},
   "outputs": [
    {
     "name": "stdout",
     "output_type": "stream",
     "text": [
      "['Movie 3', 'Movie 6', 'Movie 7', 'Movie 9', 'Movie 21', 'Movie 22', 'Movie 26']\n"
     ]
    }
   ],
   "source": [
    "# неоцененные фильмы\n",
    "unrated = list(data.loc[myUserIndex][data.loc[myUserIndex] == -1].keys())\n",
    "print(unrated)"
   ]
  },
  {
   "cell_type": "code",
   "execution_count": 217,
   "metadata": {},
   "outputs": [
    {
     "name": "stdout",
     "output_type": "stream",
     "text": [
      "{'Movie 3': 2.651, 'Movie 6': 3.474, 'Movie 7': 2.907, 'Movie 9': 3.144, 'Movie 21': 4.084, 'Movie 22': 3.144, 'Movie 26': 3.898}\n"
     ]
    }
   ],
   "source": [
    "newRates = {}\n",
    "for film in unrated:\n",
    "    sumt = 0\n",
    "    sumb = 0\n",
    "    for user in closestSim.keys():\n",
    "        rate = data.loc[user, film]\n",
    "        if rate == -1:\n",
    "            continue \n",
    "        sumb += sim[user]\n",
    "        sumt += sim[user] * (data.loc[user, film] - means[user])\n",
    "    newRates[film] = round(means[myUserIndex] + sumt/sumb, 3)\n",
    "print(newRates)"
   ]
  },
  {
   "cell_type": "code",
   "execution_count": null,
   "metadata": {},
   "outputs": [],
   "source": []
  },
  {
   "cell_type": "code",
   "execution_count": null,
   "metadata": {},
   "outputs": [],
   "source": []
  }
 ],
 "metadata": {
  "kernelspec": {
   "display_name": "Python 3",
   "language": "python",
   "name": "python3"
  },
  "language_info": {
   "codemirror_mode": {
    "name": "ipython",
    "version": 3
   },
   "file_extension": ".py",
   "mimetype": "text/x-python",
   "name": "python",
   "nbconvert_exporter": "python",
   "pygments_lexer": "ipython3",
   "version": "3.8.5"
  }
 },
 "nbformat": 4,
 "nbformat_minor": 4
}
