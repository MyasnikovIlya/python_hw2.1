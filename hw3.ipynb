{
 "cells": [
  {
   "cell_type": "code",
   "execution_count": 13,
   "metadata": {},
   "outputs": [],
   "source": [
    "# мой рекомендательный алгоритм начинается с блока 9\n",
    "import numpy as np\n",
    "import pandas as pd\n",
    "import math\n"
   ]
  },
  {
   "cell_type": "code",
   "execution_count": 14,
   "metadata": {},
   "outputs": [
    {
     "output_type": "stream",
     "name": "stdout",
     "text": [
      "    Movie 1  Movie 2  Movie 3  Movie 4  Movie 5  Movie 6  Movie 7  Movie 8  \\\n0        -1        4        1        5       -1       -1       -1        1   \n1         4        5        2        3        3        4       -1        5   \n2         4        2        5        4        1        5       -1        3   \n3         5       -1        2       -1       -1        2        4        3   \n4         4        3        3        3        5        3        3        4   \n5         2       -1        3        3        3        3        4        2   \n6         4        1        4        4        1        4        5        2   \n7        -1        5        5        3        3        3        3        3   \n8         1        2        3        1        5        3        3        1   \n9         5       -1        1       -1        3        3        4        1   \n10       -1        5       -1        1        5        2        4        2   \n11        5        4        4       -1        3       -1        5        5   \n12        1        1        4        5        4        3        5        5   \n13        3        5        4       -1        1        2        4       -1   \n14        3        5        3        4        4       -1        4        4   \n15        3        3        5        3        2        2        5       -1   \n16        1        1       -1       -1        4        4       -1       -1   \n17        4        3        3        2        1        5        3        4   \n18        4        3        5        5        4        4       -1       -1   \n19        2       -1        2        5       -1       -1        1       -1   \n20       -1        2        1        2        3        5        4        1   \n21        2        4        4       -1        4       -1        4        5   \n22        5        1       -1        5        5       -1       -1        5   \n23        5        4        2       -1        2        1        3        2   \n24        3        1       -1        4        2       -1        4        1   \n25        1        5       -1        3       -1        2        4       -1   \n26        4        4        3       -1        4        5        3        4   \n27       -1       -1        4        2        3        2        1        4   \n28        3        2        4        2        2        2        4        1   \n29        2        3        5        4        1        3        3        2   \n30        3        5        4        5        1        3        3        3   \n31        5        4        5        4        1        5        5        4   \n32        5        3        4        4        2        1        3        1   \n33       -1        5       -1       -1        1       -1        5        1   \n34        4       -1        5        4        2        2        3        1   \n35        3        2       -1        5        5        1        5        2   \n36       -1        4       -1        3        1        4        5        4   \n37        3       -1        1        4        2        3        4       -1   \n38        1       -1        5       -1        1        2        3       -1   \n39       -1        1        1        1        1       -1        4        1   \n\n    Movie 9  Movie 10  ...  Movie 21  Movie 22  Movie 23  Movie 24  Movie 25  \\\n0         3        -1  ...         2         4        -1        -1         3   \n1         3         2  ...        -1         2        -1         3         1   \n2         5         2  ...         4        -1         5         4         5   \n3         2         3  ...        -1         2         2         2         2   \n4         5         2  ...         4         5         2        -1         3   \n5        -1         1  ...         5        -1         1         3        -1   \n6         2        -1  ...         2         5         1         3         4   \n7         1         2  ...        -1         3         1         3         2   \n8         2         5  ...         3         2         3        -1         1   \n9         1         2  ...         4         1         4         1         4   \n10        4        -1  ...         4        -1         3         4         1   \n11        5         3  ...         1         4         1         5         3   \n12        5         4  ...         2         3         2        -1         4   \n13       -1         4  ...         4         1         5         4         1   \n14        2         1  ...         2         2         5         1         3   \n15        4         4  ...         1         3         4        -1         4   \n16        1         1  ...         4         2         4         2         2   \n17        5         2  ...        -1         4         5         2         1   \n18        4         4  ...         2         3         1         2        -1   \n19        2        -1  ...        -1         2         4         1        -1   \n20        2         3  ...        -1         5         1         2         5   \n21        5         4  ...         4         5         1        -1        -1   \n22       -1         3  ...        -1        -1         3         1         5   \n23        1         2  ...         4         2         2         1         3   \n24        5         3  ...         2        -1         5         5         2   \n25        4         2  ...         5         3         1         5         2   \n26        3        -1  ...        -1         3         4         3        -1   \n27       -1         1  ...         1         3         2         1         4   \n28        3         3  ...         3        -1         3         5         5   \n29        3         1  ...         4         5         1         1         4   \n30        4         1  ...         5         4         4         3         5   \n31        4        -1  ...         5         2        -1         2         3   \n32        3         3  ...         2         1         5         5         2   \n33        1         5  ...         3         3         4        -1         3   \n34        1         5  ...         5         1         2         1         5   \n35        1         5  ...        -1         2         4         3         4   \n36        3         3  ...         3         3        -1         5        -1   \n37        5         3  ...         5         4         3        -1         1   \n38        2         5  ...         4         2         5         2         3   \n39       -1         3  ...         3         5         4         2         3   \n\n    Movie 26  Movie 27  Movie 28  Movie 29  Movie 30  \n0          4        -1         2         4         1  \n1          5        -1         5         2         2  \n2          1         2         1        -1         3  \n3          5         3         2         5         5  \n4          5         1        -1         5        -1  \n5          4         4         5         1         2  \n6         -1         4         3         1         4  \n7          1         4        -1         1         3  \n8          4         3         1         5         3  \n9          5         2         3        -1         1  \n10         2         4         2         5         1  \n11         5         4         3         5         5  \n12         3        -1         5         5         4  \n13        -1         3         1         5         3  \n14         4        -1        -1         5         4  \n15         4         4         2         4         4  \n16        -1         5         4         5         3  \n17         1         2         1        -1         4  \n18         2         5         1         2         1  \n19         2         2         3         3         4  \n20         5         4         4         2        -1  \n21         5         2         2         5        -1  \n22        -1         1         5         3         5  \n23         2         5         2         5         4  \n24        -1         1         3         1         2  \n25        -1         2         2         4        -1  \n26         3         2         3         2         5  \n27         3         2         4         2         1  \n28         5         4        -1         5        -1  \n29         5         3         1         3         5  \n30         2         2         4         4        -1  \n31         2         1         3         1        -1  \n32        -1         2         1         4         2  \n33         1         5         2         2         5  \n34         5         1        -1         5         5  \n35         5         2         1         3         4  \n36         5         2         3         5        -1  \n37         4         3        -1        -1         4  \n38         1         2         1         2         1  \n39         4         5         5         3         2  \n\n[40 rows x 30 columns]\n"
     ]
    }
   ],
   "source": [
    "data = pd.read_csv('data.csv', delimiter=', ')\n",
    "kNN = 4\n",
    "myUserIndex = 22\n",
    "# дропаем юзеров, они не нужны, индексы справятся и так\n",
    "data = data.drop(columns=[data.columns[0]])\n",
    "\n",
    "print(data)"
   ]
  },
  {
   "cell_type": "code",
   "execution_count": 15,
   "metadata": {},
   "outputs": [
    {
     "output_type": "stream",
     "name": "stdout",
     "text": [
      "{0: 0, 1: 0, 2: 0, 3: 0, 4: 0, 5: 0, 6: 0, 7: 0, 8: 0, 9: 0, 10: 0, 11: 0, 12: 0, 13: 0, 14: 0, 15: 0, 16: 0, 17: 0, 18: 0, 19: 0, 20: 0, 21: 0, 23: 0, 24: 0, 25: 0, 26: 0, 27: 0, 28: 0, 29: 0, 30: 0, 31: 0, 32: 0, 33: 0, 34: 0, 35: 0, 36: 0, 37: 0, 38: 0, 39: 0}\n"
     ]
    }
   ],
   "source": [
    "# тут будем собирать sim\n",
    "sim = dict(zip(list(data.index.values) , [0 for i in range(len(data))]))\n",
    "del sim[myUserIndex]\n",
    "print(sim)"
   ]
  },
  {
   "cell_type": "code",
   "execution_count": 16,
   "metadata": {},
   "outputs": [],
   "source": [
    "for user in sim.keys():\n",
    "    set = data.iloc[[user, myUserIndex]]\n",
    "    set = set.transpose()\n",
    "    set = set[(set[user] != -1) & (set[myUserIndex] != -1 )]\n",
    "    sumuv = 0\n",
    "    sumuu = 0\n",
    "    sumvv = 0\n",
    "    for index, row in set.iterrows():\n",
    "        sumuv +=row[user] * row[myUserIndex]\n",
    "        sumuu +=row[user] * row[user]\n",
    "        sumvv +=row[myUserIndex] * row[myUserIndex]\n",
    "    sim[user] = round(sumuv / (math.sqrt(sumuu) * math.sqrt(sumvv)), 3)\n",
    "    \n",
    "closestSim = dict(sorted(list(sim.items()), key=lambda x: x[1], reverse=True)[:kNN])"
   ]
  },
  {
   "cell_type": "code",
   "execution_count": 17,
   "metadata": {},
   "outputs": [
    {
     "output_type": "stream",
     "name": "stdout",
     "text": [
      "{26: 3.3333333333333335, 3: 3.142857142857143, 19: 3.1818181818181817, 4: 3.3076923076923075, 22: 3.391304347826087}\n{26: 0.916, 3: 0.903, 19: 0.888, 4: 0.885}\n"
     ]
    }
   ],
   "source": [
    "def tupleToMean(x):\n",
    "    l = np.array(list(filter(lambda x: x != -1, x)))\n",
    "    user = l[0]\n",
    "    l = np.delete(l, [0])\n",
    "    return [user, l.mean()]\n",
    "\n",
    "means = dict(list(map(tupleToMean, data.iloc[[*list(closestSim.keys()), myUserIndex]].to_records())))\n",
    "print(means)\n",
    "print(closestSim)\n"
   ]
  },
  {
   "cell_type": "code",
   "execution_count": 18,
   "metadata": {},
   "outputs": [
    {
     "output_type": "stream",
     "name": "stdout",
     "text": [
      "['Movie 3', 'Movie 6', 'Movie 7', 'Movie 9', 'Movie 21', 'Movie 22', 'Movie 26']\n"
     ]
    }
   ],
   "source": [
    "# неоцененные фильмы\n",
    "unrated = list(data.loc[myUserIndex][data.loc[myUserIndex] == -1].keys())\n",
    "print(unrated)"
   ]
  },
  {
   "cell_type": "code",
   "execution_count": 19,
   "metadata": {},
   "outputs": [
    {
     "output_type": "stream",
     "name": "stdout",
     "text": [
      "{'Movie 3': 2.651, 'Movie 6': 3.474, 'Movie 7': 2.907, 'Movie 9': 3.144, 'Movie 21': 4.084, 'Movie 22': 3.144, 'Movie 26': 3.898}\n"
     ]
    }
   ],
   "source": [
    "newRates = {}\n",
    "for film in unrated:\n",
    "    sumt = 0\n",
    "    sumb = 0\n",
    "    for user in closestSim.keys():\n",
    "        rate = data.loc[user, film]\n",
    "        if rate == -1:\n",
    "            continue \n",
    "        sumb += sim[user]\n",
    "        sumt += sim[user] * (data.loc[user, film] - means[user])\n",
    "    newRates[film] = round(means[myUserIndex] + sumt/sumb, 3)\n",
    "print(newRates)"
   ]
  },
  {
   "cell_type": "code",
   "execution_count": 20,
   "metadata": {},
   "outputs": [],
   "source": [
    "dataDays = pd.read_csv('context_day.csv', delimiter=', ')\n",
    "dataDays = dataDays.drop(columns=[dataDays.columns[0]])\n",
    "dataPlaces = pd.read_csv('context_place.csv', delimiter=', ')\n",
    "dataPlaces = dataPlaces.drop(columns=[dataPlaces.columns[0]])\n",
    "wantedDays = ['Sat', 'Sun']\n",
    "wantedPlaces = ['h']"
   ]
  },
  {
   "cell_type": "code",
   "execution_count": 21,
   "metadata": {},
   "outputs": [
    {
     "output_type": "stream",
     "name": "stdout",
     "text": [
      "{26: 0.916, 3: 0.903, 19: 0.888, 4: 0.885}\n"
     ]
    }
   ],
   "source": [
    "# Возьмем 4 людей с наиболее близкими вкусами\n",
    "print(closestSim)"
   ]
  },
  {
   "cell_type": "code",
   "execution_count": 22,
   "metadata": {},
   "outputs": [
    {
     "output_type": "stream",
     "name": "stdout",
     "text": [
      "{'Movie 3': 2.223, 'Movie 6': 2.523, 'Movie 7': 2.855, 'Movie 9': 3.058, 'Movie 21': 3.391, 'Movie 22': 2.229, 'Movie 26': 4.145}\n"
     ]
    }
   ],
   "source": [
    "# посчитаем оценку фильмов, которые не смотрел пользователь как выше, но добавим контекстый вес:\n",
    "# для учета оценки, хотя бы 1 контекст должен совпасть \n",
    "# если совпали оба контекста, учтем оценку дополнительный раз, тем самым, увеличим ее все\n",
    "newRatesWithContext = {}\n",
    "for film in unrated:\n",
    "    sumt = 0\n",
    "    sumb = 0\n",
    "    for user in closestSim.keys():\n",
    "        rate = data.loc[user, film]\n",
    "        if rate == -1:\n",
    "            continue \n",
    "        if dataDays.loc[user, film] in wantedDays:\n",
    "            sumb += sim[user]\n",
    "            sumt += sim[user] * (data.loc[user, film] - means[user])\n",
    "        if dataPlaces.loc[user, film] in wantedPlaces:\n",
    "            sumb += sim[user]\n",
    "            sumt += sim[user] * (data.loc[user, film] - means[user])\n",
    "    newRatesWithContext[film] = round(means[myUserIndex] + (sumt/sumb if sumb !=0 else 0) , 3)\n",
    "print(newRatesWithContext)"
   ]
  },
  {
   "cell_type": "code",
   "execution_count": 23,
   "metadata": {},
   "outputs": [
    {
     "output_type": "stream",
     "name": "stdout",
     "text": [
      "{'Movie 26': 4.145}\n"
     ]
    }
   ],
   "source": [
    "# выбирем фильм с наибольшей оценкой\n",
    "bestSuggestion = dict([max(newRatesWithContext.items(), key=lambda x: x[1])])\n",
    "print(bestSuggestion)"
   ]
  },
  {
   "cell_type": "code",
   "execution_count": 24,
   "metadata": {},
   "outputs": [
    {
     "output_type": "stream",
     "name": "stdout",
     "text": [
      "{'user': 23, '1': {'Movie 3': 2.651, 'Movie 6': 3.474, 'Movie 7': 2.907, 'Movie 9': 3.144, 'Movie 21': 4.084, 'Movie 22': 3.144, 'Movie 26': 3.898}, '2': {'Movie 26': 4.145}}\n"
     ]
    }
   ],
   "source": [
    "# формируем результат и пишем в json\n",
    "result = {\n",
    "    'user': myUserIndex + 1,\n",
    "    '1': newRates,\n",
    "    '2': bestSuggestion\n",
    "}\n",
    "print(result)\n",
    "import json\n",
    "with open('result.json', 'w') as fp:\n",
    "    json.dump(result, fp, indent=4)"
   ]
  },
  {
   "cell_type": "code",
   "execution_count": null,
   "metadata": {},
   "outputs": [],
   "source": []
  }
 ],
 "metadata": {
  "kernelspec": {
   "display_name": "Python 3",
   "language": "python",
   "name": "python3"
  },
  "language_info": {
   "codemirror_mode": {
    "name": "ipython",
    "version": 3
   },
   "file_extension": ".py",
   "mimetype": "text/x-python",
   "name": "python",
   "nbconvert_exporter": "python",
   "pygments_lexer": "ipython3",
   "version": "3.8.5-final"
  }
 },
 "nbformat": 4,
 "nbformat_minor": 4
}