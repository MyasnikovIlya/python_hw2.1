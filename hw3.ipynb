{
 "cells": [
  {
   "cell_type": "code",
   "execution_count": 29,
   "metadata": {},
   "outputs": [],
   "source": [
    "# мой рекомендательный алгоритм начинается с блока 9\n",
    "import numpy as np\n",
    "import pandas as pd\n",
    "import math\n"
   ]
  },
  {
   "cell_type": "code",
   "execution_count": 30,
   "metadata": {},
   "outputs": [],
   "source": [
    "KNN = 4\n",
    "MY_USER = 22\n",
    "NO_RATE = -1\n",
    "def readAndFormat(file):\n",
    "    table = pd.read_csv(file, delimiter=', ')\n",
    "    table = table.drop(columns=[table.columns[0]])\n",
    "    return table\n",
    "data = readAndFormat('data.csv')"
   ]
  },
  {
   "cell_type": "code",
   "execution_count": 31,
   "metadata": {},
   "outputs": [],
   "source": [
    "def getSimDict(data, relativeToUser):\n",
    "    sim = dict(zip(list(data.index.values) , [0 for i in range(len(data))]))\n",
    "    del sim[relativeToUser]\n",
    "    for user in sim.keys():\n",
    "        set = data.iloc[[user, relativeToUser]]\n",
    "        set = set.transpose()\n",
    "        set = set[(set[user] != NO_RATE) & (set[relativeToUser] != NO_RATE )]\n",
    "        sumuv = 0\n",
    "        sumuu = 0\n",
    "        sumvv = 0\n",
    "        for index, row in set.iterrows():\n",
    "            sumuv +=row[user] * row[relativeToUser]\n",
    "            sumuu +=row[user] * row[user]\n",
    "            sumvv +=row[relativeToUser] * row[relativeToUser]\n",
    "        sim[user] = round(sumuv / (math.sqrt(sumuu) * math.sqrt(sumvv)), 3)\n",
    "    return sim"
   ]
  },
  {
   "cell_type": "code",
   "execution_count": 32,
   "metadata": {},
   "outputs": [],
   "source": [
    "def headSortedDict(dictionary, n):\n",
    "    return dict(sorted(list(dictionary.items()), key=lambda x: x[1], reverse=True)[:n])\n"
   ]
  },
  {
   "cell_type": "code",
   "execution_count": 33,
   "metadata": {},
   "outputs": [],
   "source": [
    "\n",
    "def meanForDataFrame(data):\n",
    "    def tupleToMean(x):\n",
    "        l = np.array(list(filter(lambda x: x != NO_RATE, x)))\n",
    "        user = l[0]\n",
    "        l = np.delete(l, [0])\n",
    "        return [user, l.mean()]\n",
    "    return dict(list(map(tupleToMean, data.to_records())))\n",
    "\n"
   ]
  },
  {
   "cell_type": "code",
   "execution_count": 34,
   "metadata": {},
   "outputs": [],
   "source": [
    "# неоцененные фильмы\n",
    "def getUnratedMovies(data, user):\n",
    "    return list(data.loc[user][data.loc[user] == NO_RATE].keys())\n"
   ]
  },
  {
   "cell_type": "code",
   "execution_count": 35,
   "metadata": {},
   "outputs": [
    {
     "output_type": "execute_result",
     "data": {
      "text/plain": [
       "['Movie 3',\n",
       " 'Movie 6',\n",
       " 'Movie 7',\n",
       " 'Movie 9',\n",
       " 'Movie 21',\n",
       " 'Movie 22',\n",
       " 'Movie 26']"
      ]
     },
     "metadata": {},
     "execution_count": 35
    }
   ],
   "source": [
    "UNRATED = getUnratedMovies(data, MY_USER)\n",
    "UNRATED"
   ]
  },
  {
   "cell_type": "code",
   "execution_count": 36,
   "metadata": {},
   "outputs": [
    {
     "output_type": "execute_result",
     "data": {
      "text/plain": [
       "{0: 0.831,\n",
       " 1: 0.798,\n",
       " 2: 0.825,\n",
       " 3: 0.903,\n",
       " 4: 0.885,\n",
       " 5: 0.836,\n",
       " 6: 0.865,\n",
       " 7: 0.785,\n",
       " 8: 0.721,\n",
       " 9: 0.868,\n",
       " 10: 0.738,\n",
       " 11: 0.869,\n",
       " 12: 0.844,\n",
       " 13: 0.719,\n",
       " 14: 0.854,\n",
       " 15: 0.839,\n",
       " 16: 0.815,\n",
       " 17: 0.817,\n",
       " 18: 0.772,\n",
       " 19: 0.888,\n",
       " 20: 0.863,\n",
       " 21: 0.845,\n",
       " 23: 0.824,\n",
       " 24: 0.802,\n",
       " 25: 0.763,\n",
       " 26: 0.916,\n",
       " 27: 0.873,\n",
       " 28: 0.807,\n",
       " 29: 0.779,\n",
       " 30: 0.817,\n",
       " 31: 0.811,\n",
       " 32: 0.801,\n",
       " 33: 0.787,\n",
       " 34: 0.862,\n",
       " 35: 0.883,\n",
       " 36: 0.725,\n",
       " 37: 0.859,\n",
       " 38: 0.753,\n",
       " 39: 0.794}"
      ]
     },
     "metadata": {},
     "execution_count": 36
    }
   ],
   "source": [
    "SIM = getSimDict(data, MY_USER)\n",
    "SIM"
   ]
  },
  {
   "cell_type": "code",
   "execution_count": 37,
   "metadata": {},
   "outputs": [
    {
     "output_type": "execute_result",
     "data": {
      "text/plain": [
       "{26: 0.916, 3: 0.903, 19: 0.888, 4: 0.885}"
      ]
     },
     "metadata": {},
     "execution_count": 37
    }
   ],
   "source": [
    "CLOSEST_SIM = headSortedDict(SIM, KNN)\n",
    "CLOSEST_SIM"
   ]
  },
  {
   "cell_type": "code",
   "execution_count": 38,
   "metadata": {},
   "outputs": [
    {
     "output_type": "execute_result",
     "data": {
      "text/plain": [
       "{26: 3.3333333333333335,\n",
       " 3: 3.142857142857143,\n",
       " 19: 3.1818181818181817,\n",
       " 4: 3.3076923076923075,\n",
       " 22: 3.391304347826087}"
      ]
     },
     "metadata": {},
     "execution_count": 38
    }
   ],
   "source": [
    "MEANS = meanForDataFrame(data.iloc[[*list(CLOSEST_SIM.keys()), MY_USER]])\n",
    "MEANS"
   ]
  },
  {
   "cell_type": "code",
   "execution_count": 39,
   "metadata": {},
   "outputs": [
    {
     "output_type": "stream",
     "name": "stdout",
     "text": [
      "{'Movie 3': 2.651, 'Movie 6': 3.474, 'Movie 7': 2.907, 'Movie 9': 3.144, 'Movie 21': 4.084, 'Movie 22': 3.144, 'Movie 26': 3.898}\n"
     ]
    }
   ],
   "source": [
    "newRates = {}\n",
    "for film in UNRATED:\n",
    "    sumt = 0\n",
    "    sumb = 0\n",
    "    for user in CLOSEST_SIM.keys():\n",
    "        rate = data.loc[user, film]\n",
    "        if rate == NO_RATE:\n",
    "            continue \n",
    "        sumb += SIM[user]\n",
    "        sumt += SIM[user] * (data.loc[user, film] - MEANS[user])\n",
    "    newRates[film] = round(MEANS[MY_USER] + sumt/sumb, 3)\n",
    "\n",
    "print(newRates)"
   ]
  },
  {
   "cell_type": "code",
   "execution_count": 40,
   "metadata": {},
   "outputs": [],
   "source": [
    "dataDays = readAndFormat('context_day.csv')\n",
    "dataPlaces =readAndFormat('context_place.csv')\n",
    "DAYS = ['Sat', 'Sun']\n",
    "PLACES = ['h']"
   ]
  },
  {
   "cell_type": "code",
   "execution_count": 41,
   "metadata": {},
   "outputs": [],
   "source": [
    "# Возьмем 4 людей с наиболее близкими вкусами"
   ]
  },
  {
   "cell_type": "code",
   "execution_count": 42,
   "metadata": {},
   "outputs": [
    {
     "output_type": "stream",
     "name": "stdout",
     "text": [
      "{'Movie 3': 2.223, 'Movie 6': 2.523, 'Movie 7': 2.855, 'Movie 9': 3.058, 'Movie 21': 3.391, 'Movie 22': 2.229, 'Movie 26': 4.145}\n"
     ]
    }
   ],
   "source": [
    "# посчитаем оценку фильмов, которые не смотрел пользователь как выше, но добавим контекстый вес:\n",
    "# для учета оценки, хотя бы 1 контекст должен совпасть \n",
    "# если совпали оба контекста, учтем оценку дополнительный раз, тем самым, увеличим ее все\n",
    "newRatesWithContext = {}\n",
    "for film in UNRATED:\n",
    "    sumt = 0\n",
    "    sumb = 0\n",
    "    for user in CLOSEST_SIM.keys():\n",
    "        rate = data.loc[user, film]\n",
    "        if rate == NO_RATE:\n",
    "            continue \n",
    "        if dataDays.loc[user, film] in DAYS:\n",
    "            sumb += SIM[user]\n",
    "            sumt += SIM[user] * (data.loc[user, film] - MEANS[user])\n",
    "        if dataPlaces.loc[user, film] in PLACES:\n",
    "            sumb += SIM[user]\n",
    "            sumt += SIM[user] * (data.loc[user, film] - MEANS[user])\n",
    "    newRatesWithContext[film] = round(MEANS[MY_USER] + (sumt/sumb if sumb !=0 else 0) , 3)\n",
    "\n",
    "print(newRatesWithContext)"
   ]
  },
  {
   "cell_type": "code",
   "execution_count": 43,
   "metadata": {},
   "outputs": [
    {
     "output_type": "execute_result",
     "data": {
      "text/plain": [
       "{'Movie 26': 4.145}"
      ]
     },
     "metadata": {},
     "execution_count": 43
    }
   ],
   "source": [
    "# выбирем фильм с наибольшей оценкой\n",
    "BEST_SUGGESTION = headSortedDict(newRatesWithContext, 1)\n",
    "BEST_SUGGESTION"
   ]
  },
  {
   "cell_type": "code",
   "execution_count": 44,
   "metadata": {},
   "outputs": [
    {
     "output_type": "stream",
     "name": "stdout",
     "text": [
      "{'user': 23, '1': {'Movie 3': 2.651, 'Movie 6': 3.474, 'Movie 7': 2.907, 'Movie 9': 3.144, 'Movie 21': 4.084, 'Movie 22': 3.144, 'Movie 26': 3.898}, '2': {'Movie 26': 4.145}}\n"
     ]
    }
   ],
   "source": [
    "# формируем результат и пишем в json\n",
    "result = {\n",
    "    'user': MY_USER + 1,\n",
    "    '1': newRates,\n",
    "    '2': BEST_SUGGESTION\n",
    "}\n",
    "print(result)\n",
    "import json\n",
    "with open('result.json', 'w') as fp:\n",
    "    json.dump(result, fp, indent=4)"
   ]
  },
  {
   "cell_type": "code",
   "execution_count": null,
   "metadata": {},
   "outputs": [],
   "source": []
  }
 ],
 "metadata": {
  "kernelspec": {
   "display_name": "Python 3",
   "language": "python",
   "name": "python3"
  },
  "language_info": {
   "codemirror_mode": {
    "name": "ipython",
    "version": 3
   },
   "file_extension": ".py",
   "mimetype": "text/x-python",
   "name": "python",
   "nbconvert_exporter": "python",
   "pygments_lexer": "ipython3",
   "version": "3.8.5-final"
  }
 },
 "nbformat": 4,
 "nbformat_minor": 4
}